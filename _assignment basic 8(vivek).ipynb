{
 "cells": [
  {
   "cell_type": "code",
   "execution_count": null,
   "id": "98e61fd5",
   "metadata": {},
   "outputs": [],
   "source": [
    "1. Is the Python Standard Library included with PyInputPlus? "
   ]
  },
  {
   "cell_type": "code",
   "execution_count": null,
   "id": "04784e7c",
   "metadata": {},
   "outputs": [],
   "source": [
    "ns: No, PyInputPlus is not a part of Python Standard Library, it needs to be installed explicitly using the command !pip install PyInputPlus"
   ]
  },
  {
   "cell_type": "code",
   "execution_count": null,
   "id": "e43579bb",
   "metadata": {},
   "outputs": [],
   "source": [
    "2. Why is PyInputPlus commonly imported with import pyinputplus as pypi?"
   ]
  },
  {
   "cell_type": "code",
   "execution_count": null,
   "id": "85a60d1a",
   "metadata": {},
   "outputs": [],
   "source": [
    "Ans: You can import the module with import pyinputplus as pyip so that you can enter a shorter name when calling the module's functions."
   ]
  },
  {
   "cell_type": "code",
   "execution_count": null,
   "id": "b72c0c07",
   "metadata": {},
   "outputs": [],
   "source": [
    "3. How do you distinguish between inputInt() and inputFloat()?"
   ]
  },
  {
   "cell_type": "code",
   "execution_count": null,
   "id": "6d224d21",
   "metadata": {},
   "outputs": [],
   "source": [
    "Ans.  inputInt() function Accepts an integer value. This also takes additional parameters min, max, greaterThan and lessThan for bounds. And it always returns an int.\n",
    "Whereas inputFloat() function Accepts a floating-point numeric value. this also takes additional min, max, greaterThan and lessThan parameters. and always returns a float."
   ]
  },
  {
   "cell_type": "code",
   "execution_count": null,
   "id": "4258b5d6",
   "metadata": {},
   "outputs": [],
   "source": [
    "4.Using PyInputPlus, how do you ensure that the user enters a whole number between 0 and 99?"
   ]
  },
  {
   "cell_type": "code",
   "execution_count": null,
   "id": "ac3cd7c2",
   "metadata": {},
   "outputs": [],
   "source": [
    "Ans: PyInputPlus module provides a function called as inputInt() which only returns only integer values. inorder to restrict the input between 0 and 99, i'ii use parameters like min & max to ensure that user enters the values between the defined range only.\n",
    "\n",
    "import pyinputplus as pyip\n",
    "wholenumber = pyip.inputInt(prompt='Enter a number: ', min=0, max=100)\n",
    "print(wholenumber)"
   ]
  },
  {
   "cell_type": "code",
   "execution_count": null,
   "id": "1a45d899",
   "metadata": {},
   "outputs": [],
   "source": [
    "5.What is transferred to the keyword arguments allowRegexes and blockRegexes?"
   ]
  },
  {
   "cell_type": "code",
   "execution_count": null,
   "id": "26d2d44c",
   "metadata": {},
   "outputs": [],
   "source": [
    "Ans. We can use allowRegexes and blockRegexes keyword arguments to take list of regular expression strings to determine what the pyinputplus function will reject or accept valid input."
   ]
  },
  {
   "cell_type": "code",
   "execution_count": null,
   "id": "396fd073",
   "metadata": {},
   "outputs": [],
   "source": [
    "6.If a blank input is entered three times, what does inputStr(limit=3) do?"
   ]
  },
  {
   "cell_type": "code",
   "execution_count": null,
   "id": "2bc8a33d",
   "metadata": {},
   "outputs": [],
   "source": [
    "Ans.The statement inputStr(limit=3) will throw two exceptions ValidationException and RetryLimitException. The first exception is thrown because blank values are not allowed by inputStr() function by default. it we want to consider blank values as valid input, we have to set blank=True.\n",
    "\n",
    "The second exception is occured because we have reached the max limit we have specified by using limit parameter. inorder to avoid this exception we can use default parameter to return a default value when max limit is reached.\n"
   ]
  },
  {
   "cell_type": "code",
   "execution_count": null,
   "id": "741a6a1b",
   "metadata": {},
   "outputs": [],
   "source": [
    "7. If blank input is entered three times, what does inputStr(limit=3, default='hello') do?"
   ]
  },
  {
   "cell_type": "code",
   "execution_count": null,
   "id": "de9d4433",
   "metadata": {},
   "outputs": [],
   "source": [
    "Ans: Since the default parameter is set to hello. after blank input is entered three times instead of raising RetryLimitException exception. the function will return hello as response to the calling function"
   ]
  }
 ],
 "metadata": {
  "kernelspec": {
   "display_name": "Python 3 (ipykernel)",
   "language": "python",
   "name": "python3"
  },
  "language_info": {
   "codemirror_mode": {
    "name": "ipython",
    "version": 3
   },
   "file_extension": ".py",
   "mimetype": "text/x-python",
   "name": "python",
   "nbconvert_exporter": "python",
   "pygments_lexer": "ipython3",
   "version": "3.9.7"
  }
 },
 "nbformat": 4,
 "nbformat_minor": 5
}
